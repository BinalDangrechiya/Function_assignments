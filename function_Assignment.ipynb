{
  "cells": [
    {
      "cell_type": "markdown",
      "source": [
        "# **Practical**"
      ],
      "metadata": {
        "id": "EFK9esiOdPe0"
      }
    },
    {
      "cell_type": "markdown",
      "metadata": {
        "id": "80net7elWaWf"
      },
      "source": [
        "1. write a python function that takes a list of numbers as input and returns the sum of all even numbers in the list."
      ]
    },
    {
      "cell_type": "code",
      "execution_count": null,
      "metadata": {
        "id": "sb5cKUjYVbR_"
      },
      "outputs": [],
      "source": [
        "def even_sum(number):\n",
        "  sum = 0\n",
        "  for i in number:\n",
        "    if i % 2 == 0:\n",
        "      sum = sum + i\n",
        "  return sum"
      ]
    },
    {
      "cell_type": "code",
      "execution_count": null,
      "metadata": {
        "colab": {
          "base_uri": "https://localhost:8080/"
        },
        "id": "TbhHm2O6WOUd",
        "outputId": "737acfc5-af9d-428f-8b45-5cc956d37862"
      },
      "outputs": [
        {
          "output_type": "execute_result",
          "data": {
            "text/plain": [
              "12"
            ]
          },
          "metadata": {},
          "execution_count": 2
        }
      ],
      "source": [
        "even_sum([1,2,3,4,5,6,7])"
      ]
    },
    {
      "cell_type": "markdown",
      "metadata": {
        "id": "oLNFMqEOd7G3"
      },
      "source": [
        "2. Create a Python function that accepts a string and returns the reverse of that string.\n"
      ]
    },
    {
      "cell_type": "code",
      "source": [
        "def reverse(str):\n",
        "  string = str[::-1]\n",
        "  print(\"the reversed string : \", string)"
      ],
      "metadata": {
        "id": "f0SgdZP9J-0G"
      },
      "execution_count": null,
      "outputs": []
    },
    {
      "cell_type": "code",
      "source": [
        "reverse(\"hello world !\")"
      ],
      "metadata": {
        "colab": {
          "base_uri": "https://localhost:8080/"
        },
        "id": "uvARek2P8TGB",
        "outputId": "982cc52a-b5c8-4aea-90cc-95804ff91d22"
      },
      "execution_count": null,
      "outputs": [
        {
          "output_type": "stream",
          "name": "stdout",
          "text": [
            "the reversed string :  ! dlrow olleh\n"
          ]
        }
      ]
    },
    {
      "cell_type": "markdown",
      "source": [
        "3. Implement a Python function that takes a list of integers and returns a new list containing the squares of each number.\n",
        "\n"
      ],
      "metadata": {
        "id": "SkAZ8ZeC-kA-"
      }
    },
    {
      "cell_type": "code",
      "source": [
        "def list(numbers):\n",
        "  squared_numbers = [num**2 for num in numbers]\n",
        "  return squared_numbers\n",
        "\n",
        "my_list = [1, 2, 3, 4, 5]\n",
        "result = list(my_list)\n",
        "print(result)"
      ],
      "metadata": {
        "colab": {
          "base_uri": "https://localhost:8080/"
        },
        "id": "Fl0MP1-a-ivF",
        "outputId": "228ee142-290b-4be8-8bf7-be694657e96a"
      },
      "execution_count": null,
      "outputs": [
        {
          "output_type": "stream",
          "name": "stdout",
          "text": [
            "[1, 4, 9, 16, 25]\n"
          ]
        }
      ]
    },
    {
      "cell_type": "markdown",
      "source": [
        "4. Write a Python function that checks if a given number is prime or not from 1 to 200.\n"
      ],
      "metadata": {
        "id": "1mqWQe3SD7qW"
      }
    },
    {
      "cell_type": "code",
      "source": [
        "def number(num):\n",
        "  if 200 >= num >= 1:\n",
        "\n",
        "    for i in range(2, (num//2)+1):\n",
        "\n",
        "        if (num % i) == 0:\n",
        "            print(num, \"is not a prime number \")\n",
        "            break\n",
        "    else:\n",
        "        print(num, \"is a prime number\")\n",
        "  else:\n",
        "    print(\"number is not valid\")\n"
      ],
      "metadata": {
        "id": "D-4Ho9zrtK12"
      },
      "execution_count": null,
      "outputs": []
    },
    {
      "cell_type": "code",
      "source": [
        "number(2)"
      ],
      "metadata": {
        "id": "pvwgd8ZwtKvr",
        "colab": {
          "base_uri": "https://localhost:8080/"
        },
        "outputId": "197470ad-c00c-43c7-b155-fd3211716bf0"
      },
      "execution_count": null,
      "outputs": [
        {
          "output_type": "stream",
          "name": "stdout",
          "text": [
            "2 is a prime number\n"
          ]
        }
      ]
    },
    {
      "cell_type": "markdown",
      "source": [
        "5. Create an iterator class in Python that generates the Fibonacci sequence up to a specified number of terms.\n"
      ],
      "metadata": {
        "id": "QaM_BYnc3mat"
      }
    },
    {
      "cell_type": "code",
      "source": [
        "class Fibonacci:\n",
        "\n",
        "  def __init__(self):\n",
        "    self.n1 = 0\n",
        "    self.n2 = 1\n",
        "    self.n3 = 1\n",
        "\n",
        "  def __iter__(self):\n",
        "    return self\n",
        "\n",
        "  def __next__(self):\n",
        "    self.n1 = self.n2\n",
        "    self.n2 = self.n3\n",
        "    self.n3 = self.n1 + self.n2\n",
        "    return self.n1\n",
        "\n",
        "fib = Fibonacci()\n",
        "for k in range(10):\n",
        "    print(next(fib), end=' ')"
      ],
      "metadata": {
        "id": "bgoJBUK4tKtp",
        "colab": {
          "base_uri": "https://localhost:8080/"
        },
        "outputId": "501b5a1b-38b0-4cf7-fe17-02cf2e41a3db"
      },
      "execution_count": null,
      "outputs": [
        {
          "output_type": "stream",
          "name": "stdout",
          "text": [
            "1 1 2 3 5 8 13 21 34 55 "
          ]
        }
      ]
    },
    {
      "cell_type": "markdown",
      "source": [
        "6. Write a generator function in Python that yields the powers of 2 up to a given exponent.\n"
      ],
      "metadata": {
        "id": "INby02Mn388C"
      }
    },
    {
      "cell_type": "code",
      "source": [
        "def power(exponent):\n",
        "\n",
        "    power = 1\n",
        "    for _ in range(exponent + 1):\n",
        "        yield power\n",
        "        power *= 2\n",
        "\n",
        "\n",
        "exponent = 5\n",
        "for power in power(exponent):\n",
        "    print(power, end = ' ')"
      ],
      "metadata": {
        "id": "ah5Ij20LtKkH",
        "colab": {
          "base_uri": "https://localhost:8080/"
        },
        "outputId": "4efce79f-18ed-4415-a75f-34bfd855bb92"
      },
      "execution_count": null,
      "outputs": [
        {
          "output_type": "stream",
          "name": "stdout",
          "text": [
            "1 2 4 8 16 32 "
          ]
        }
      ]
    },
    {
      "cell_type": "markdown",
      "source": [
        "7. Implement a generator function that reads a file line by line and yields each line as a string.\n"
      ],
      "metadata": {
        "id": "qbW6Kcfq4BmA"
      }
    },
    {
      "cell_type": "code",
      "source": [
        "def read_file_lines(filename):\n",
        "\n",
        "  with open(filename, 'r') as f:\n",
        "    for line in f:\n",
        "      yield line.rstrip()\n",
        "\n",
        "with open('file.txt', 'w') as f:\n",
        "  f.write('This is the first line.\\n')\n",
        "  f.write('This is the second line.\\n')\n",
        "  f.write('This is the third line.\\n')\n",
        "\n",
        "for line in read_file_lines('file.txt'):\n",
        "  print(line)"
      ],
      "metadata": {
        "colab": {
          "base_uri": "https://localhost:8080/"
        },
        "id": "ZdlZhhjXiz6a",
        "outputId": "431011e7-fcb3-402f-e18d-1d2fe2949eb3"
      },
      "execution_count": null,
      "outputs": [
        {
          "output_type": "stream",
          "name": "stdout",
          "text": [
            "This is the first line.\n",
            "This is the second line.\n",
            "This is the third line.\n"
          ]
        }
      ]
    },
    {
      "cell_type": "markdown",
      "source": [
        "8. Use a lambda function in Python to sort a list of tuples based on the second element of each tuple.\n"
      ],
      "metadata": {
        "id": "cOyv2Bwp4JTZ"
      }
    },
    {
      "cell_type": "code",
      "source": [
        "tuples = [(2 , 'banana'), (3 ,'orange'), (1 ,'apple')]\n",
        "sorted_tuples = sorted(tuples, key=lambda x: x[1])\n",
        "print(sorted_tuples)"
      ],
      "metadata": {
        "colab": {
          "base_uri": "https://localhost:8080/"
        },
        "id": "fAir7GnSuiCc",
        "outputId": "a40ccc98-3ba2-444d-f047-7c7506c6a6c6"
      },
      "execution_count": null,
      "outputs": [
        {
          "output_type": "stream",
          "name": "stdout",
          "text": [
            "[(1, 'apple'), (2, 'banana'), (3, 'orange')]\n"
          ]
        }
      ]
    },
    {
      "cell_type": "markdown",
      "source": [
        "9. Write a Python program that uses 'map()' to convert a list of temperatures from Celsius to Fahrenheit."
      ],
      "metadata": {
        "id": "qFoomG5RHUm7"
      }
    },
    {
      "cell_type": "code",
      "source": [
        "def celsius_to_fahrenheit(celsius):\n",
        "  return (celsius * 1.8) + 32\n",
        "temperatures_celsius = [10, 20, 30]\n",
        "temperatures_fahrenheit = list(map(celsius_to_fahrenheit, temperatures_celsius))\n",
        "print(temperatures_fahrenheit)"
      ],
      "metadata": {
        "colab": {
          "base_uri": "https://localhost:8080/"
        },
        "id": "wWclHjnIxLke",
        "outputId": "c76894ad-1311-4ddd-e5ac-dc5d454d50bb"
      },
      "execution_count": null,
      "outputs": [
        {
          "output_type": "stream",
          "name": "stdout",
          "text": [
            "[50.0, 68.0, 86.0]\n"
          ]
        }
      ]
    },
    {
      "cell_type": "markdown",
      "source": [
        "10. Create a Python program that uses 'filter()' to remove all the vowels from a given string."
      ],
      "metadata": {
        "id": "gB3io-jVHWrF"
      }
    },
    {
      "cell_type": "code",
      "source": [
        "def remove_vowels(string):\n",
        "\n",
        "  vowels = \"aeiouAEIOU\"\n",
        "  return ''.join(filter(lambda x: x not in vowels, string))\n",
        "\n",
        "string = \"Hello, world!\"\n",
        "result = remove_vowels(string)\n",
        "print(result)"
      ],
      "metadata": {
        "colab": {
          "base_uri": "https://localhost:8080/"
        },
        "id": "h4meFi3J0Fai",
        "outputId": "a9a02e24-ea49-490d-919b-78c08bebbd5e"
      },
      "execution_count": null,
      "outputs": [
        {
          "output_type": "stream",
          "name": "stdout",
          "text": [
            "Hll, wrld!\n"
          ]
        }
      ]
    },
    {
      "cell_type": "markdown",
      "source": [
        "11) Imagine an accounting routine used in a book shop. It works on a list with sublists, which look like this:\n",
        "\n",
        "  Order Number , Book Title and Author    ,           Quantity,Price per/\n",
        "  34587  ,      Learning Python, Mark Lutz       ,     4,       40.95/\n",
        "  98762    ,    Programming Python, Mark Lutz     ,    5   ,    56.80/\n",
        "  77226     ,   Head First Python, Paul Barry      ,   3  ,     32.95/\n",
        "  88112    ,    Einfuhrung in Python3, Bernd Klein  ,  3 ,      24.99/\n",
        "\n",
        "Write a Python program, which returns a list with 2-tuples. Each tuple consists of the order number and the\n",
        "product of the price per item and the quantity. The product should be increased by 10,- € if the value of the\n",
        "order is smaller than 100,00 €.\n",
        "\n",
        "Write a Python program using lambda and map."
      ],
      "metadata": {
        "id": "9U5pL7udHpun"
      }
    },
    {
      "cell_type": "code",
      "source": [
        "def calculate_order_values(orders):\n",
        "\n",
        "  return list(map(lambda order: (order[0], (order[3] * order[2]) + 10 if (order[3] * order[2]) < 100 else (order[3] * order[2])), orders))\n",
        "\n",
        "orders = [\n",
        "    [34587, \"Learning Python, Mark Lutz\", 4, 40.95],\n",
        "    [98762, \"Programming Python, Mark Lutz\", 5, 56.80],\n",
        "    [77226, \"Head First Python, Paul Barry\", 3, 32.95],\n",
        "    [88112, \"Einfuhrung in Python3, Bernd Klein\", 3, 24.99]\n",
        "]\n",
        "\n",
        "order_values = calculate_order_values(orders)\n",
        "print(order_values)"
      ],
      "metadata": {
        "colab": {
          "base_uri": "https://localhost:8080/"
        },
        "id": "OUYQhlpk9PbN",
        "outputId": "e655cfeb-f75d-4503-a7cf-275df4c4ae11"
      },
      "execution_count": null,
      "outputs": [
        {
          "output_type": "stream",
          "name": "stdout",
          "text": [
            "[(34587, 163.8), (98762, 284.0), (77226, 108.85000000000001), (88112, 84.97)]\n"
          ]
        }
      ]
    },
    {
      "cell_type": "markdown",
      "source": [
        "# **Theory**"
      ],
      "metadata": {
        "id": "yLo153B0lvmH"
      }
    },
    {
      "cell_type": "markdown",
      "source": [
        " 1. What is the difference between a function and a method in Python?\n"
      ],
      "metadata": {
        "id": "SGFtRZwyst8V"
      }
    },
    {
      "cell_type": "markdown",
      "source": [
        "  In Python, the terms \"function\" and \"method\" both refer to blocks of code that perform specific tasks, but they are used in different contexts and have distinct differences. Here’s a breakdown of each:\n",
        "\n",
        "Function :\n",
        "\n",
        "  A function is a block of reusable code that is designed to perform a specific task. Functions are defined using the def keyword outside of any class.\n",
        "\n",
        "*  A self-contained block of code that performs a specific task.\n",
        "*  It is defined independently and can be called from anywhere in your code.\n",
        "*  It doesn't require an object to be associated with it.\n",
        "\n",
        "Example :"
      ],
      "metadata": {
        "id": "24vE-3kZkO3A"
      }
    },
    {
      "cell_type": "code",
      "source": [
        "def greet(name):\n",
        "    print(\"Hello, \" + name + \"!\")\n",
        "\n",
        "greet(\"student\")"
      ],
      "metadata": {
        "colab": {
          "base_uri": "https://localhost:8080/"
        },
        "id": "3wWx0BjNpU7V",
        "outputId": "26fdb1ac-f2f7-4d88-8904-24e6e723b11e"
      },
      "execution_count": null,
      "outputs": [
        {
          "output_type": "stream",
          "name": "stdout",
          "text": [
            "Hello, student!\n"
          ]
        }
      ]
    },
    {
      "cell_type": "markdown",
      "source": [
        "Method:\n",
        "\n",
        " A method is similar to a function but is associated with an object or class. Methods are defined within a class and are meant to operate on instances of that class or the class itself.\n",
        "\n",
        "\n",
        "*   A function that is associated with a particular object.\n",
        "*   It is defined within the class that defines the object.\n",
        "*   It can access the object's attributes and modify its state.\n",
        "\n",
        "Example :\n"
      ],
      "metadata": {
        "id": "L_2sX4izqSzF"
      }
    },
    {
      "cell_type": "code",
      "source": [
        "class Person:\n",
        "    def __init__(self, name):\n",
        "        self.name = name\n",
        "\n",
        "    def greet(self):\n",
        "        print(\"Hello, \" + self.name + \"!\")\n",
        "\n",
        "person1 = Person(\"student\")\n",
        "person1.greet()"
      ],
      "metadata": {
        "colab": {
          "base_uri": "https://localhost:8080/"
        },
        "id": "iZodj85HrY4W",
        "outputId": "1e3d12e6-5a11-4bba-ea44-12e404188133"
      },
      "execution_count": null,
      "outputs": [
        {
          "output_type": "stream",
          "name": "stdout",
          "text": [
            "Hello, student!\n"
          ]
        }
      ]
    },
    {
      "cell_type": "markdown",
      "source": [
        "Key Difference :\n",
        "\n",
        "  * Method definition is always present inside the class, while the class is not required to define the function.\n",
        "  * Functions can have a zero parameter, whereas the method should have a default parameter, either self or cls, to get the object.\n",
        "  * The method operates the data in the class, while a function is used to return or pass the data.\n",
        "  * A function can be directly called by its name, while a method can’t be called by its name.\n",
        "  * The method lies under Object-Oriented Programming, while a function is an independent functionality."
      ],
      "metadata": {
        "id": "NAxhiRMMr3eq"
      }
    },
    {
      "cell_type": "markdown",
      "source": [
        "\n",
        " 2. Explain the concept of function arguments and parameters in Python.\n"
      ],
      "metadata": {
        "id": "LvSR1lICswhq"
      }
    },
    {
      "cell_type": "markdown",
      "source": [
        "There is always a little confusion among budding developers between a parameter and an argument, this article focuses to clarify the difference between them and help you to use them effectively.\n",
        "\n",
        "Parameters :\n",
        "\n",
        "  Parameters are variables listed in a function definition. They act as placeholders for the values that will be passed into the function.\n",
        "\n",
        "  They define what kind of arguments the function expects.\n",
        "\n",
        " Example :"
      ],
      "metadata": {
        "id": "rv8Kz-fB20cK"
      }
    },
    {
      "cell_type": "code",
      "source": [
        "def sum(a,b):\n",
        "  print(a+b)\n",
        "\n",
        "sum(3,2)"
      ],
      "metadata": {
        "colab": {
          "base_uri": "https://localhost:8080/"
        },
        "id": "ZpmTER4T3Lie",
        "outputId": "ccb4c9db-6be3-4cac-f8f5-6433719d874d"
      },
      "execution_count": null,
      "outputs": [
        {
          "output_type": "stream",
          "name": "stdout",
          "text": [
            "5\n"
          ]
        }
      ]
    },
    {
      "cell_type": "markdown",
      "source": [
        "Arguments :\n",
        "\n",
        "An argument is a value that is passed to a function when it is called. It might be a variable, value or object passed to a function or method as input. They are written when we are calling the function.\n",
        "\n",
        "Python functions can contain two types of arguments:\n",
        "\n",
        "* Positional Arguments\n",
        "* Keyword Arguments\n",
        "\n",
        "* Positional Arguments :\n",
        "\n",
        "Positional Arguments are needed to be included in proper order i.e the first argument is always listed first when the function is called, second argument needs to be called second and so on.\n",
        "\n",
        "\n",
        "\n",
        "\n",
        "Example:"
      ],
      "metadata": {
        "id": "LVMiYdWr3TZw"
      }
    },
    {
      "cell_type": "code",
      "source": [
        "def person_name(first_name,second_name):\n",
        "  print(first_name+second_name)\n",
        "\n",
        "person_name(\"Ram \",\"Shyam\")"
      ],
      "metadata": {
        "id": "9_qvcetF3rPI",
        "colab": {
          "base_uri": "https://localhost:8080/"
        },
        "outputId": "fb18f791-e403-4568-e9c0-d33c989c12da"
      },
      "execution_count": null,
      "outputs": [
        {
          "output_type": "stream",
          "name": "stdout",
          "text": [
            "Ram Shyam\n"
          ]
        }
      ]
    },
    {
      "cell_type": "markdown",
      "source": [
        "* Keyword Arguments :\n",
        "\n",
        "Keyword Arguments is an argument passed to a function or method which is preceded by a keyword and an equal to sign. The order of keyword argument with respect to another keyword argument does not matter because the values are being explicitly assigned.\n",
        "\n",
        "Example :"
      ],
      "metadata": {
        "id": "NkeTnCMg-5zQ"
      }
    },
    {
      "cell_type": "code",
      "source": [
        "def person_name(first_name,second_name):\n",
        "  print(first_name+second_name)\n",
        "\n",
        "person_name(second_name=\"Shyam\",first_name=\"Ram \")"
      ],
      "metadata": {
        "colab": {
          "base_uri": "https://localhost:8080/"
        },
        "id": "iHNjT4hE_FIA",
        "outputId": "4e245505-10ab-4ce9-87d1-95c39451e533"
      },
      "execution_count": null,
      "outputs": [
        {
          "output_type": "stream",
          "name": "stdout",
          "text": [
            "Ram Shyam\n"
          ]
        }
      ]
    },
    {
      "cell_type": "markdown",
      "source": [
        " 3. What are the different ways to define and call a function in Python ?"
      ],
      "metadata": {
        "id": "9SUYFDALs03O"
      }
    },
    {
      "cell_type": "markdown",
      "source": [
        "I'd be glad to provide a comprehensive explanation of the different ways to define and call functions in Python:\n",
        "\n",
        "Defining Functions :\n",
        "\n",
        "* Using the def keyword :\n",
        "\n",
        "  This is the most common method.\n",
        "The function name is followed by parentheses containing the parameters (if any) and a colon.\n",
        "The function body is indented within the block.\n"
      ],
      "metadata": {
        "id": "NWyOEq3R_wmg"
      }
    },
    {
      "cell_type": "code",
      "source": [
        "def greet(name):\n",
        "    print(\"Hello, \" + name + \"!\")\n",
        "\n",
        "\n",
        "greet(name=\"ram \")"
      ],
      "metadata": {
        "colab": {
          "base_uri": "https://localhost:8080/"
        },
        "id": "StSBHUhEEkNA",
        "outputId": "a2485870-9c30-410f-c870-8634ade54483"
      },
      "execution_count": null,
      "outputs": [
        {
          "output_type": "stream",
          "name": "stdout",
          "text": [
            "Hello, ram !\n"
          ]
        }
      ]
    },
    {
      "cell_type": "markdown",
      "source": [
        "* Using lambda expressions:\n",
        "\n",
        "These are anonymous functions defined in a single line.\n",
        "They are often used for simple functions or as arguments to other functions.\n",
        "The lambda keyword is followed by the parameters and an expression."
      ],
      "metadata": {
        "id": "qynqEC9hH9do"
      }
    },
    {
      "cell_type": "code",
      "source": [
        "greet = lambda name: print(\"Hello, \" + name + \"!\")\n",
        "\n",
        "\n",
        "greet(\"Shyam\")"
      ],
      "metadata": {
        "colab": {
          "base_uri": "https://localhost:8080/"
        },
        "id": "0Dhmi2eeIQ2l",
        "outputId": "577b7485-5b78-4293-9f8f-f1e890c156bc"
      },
      "execution_count": null,
      "outputs": [
        {
          "output_type": "stream",
          "name": "stdout",
          "text": [
            "Hello, Shyam!\n"
          ]
        }
      ]
    },
    {
      "cell_type": "markdown",
      "source": [
        "* Decorators:\n",
        "\n",
        "These are functions that modify the behavior of other functions.\n",
        "They are applied using the @ syntax before the function definition."
      ],
      "metadata": {
        "id": "kHkE4qTiJMju"
      }
    },
    {
      "cell_type": "code",
      "source": [
        "def my_decorator(func):\n",
        "    def wrapper():\n",
        "        print(\"Before function call\")\n",
        "        func()\n",
        "        print(\"After function call\")\n",
        "    return wrapper\n",
        "\n",
        "@my_decorator\n",
        "def my_function():\n",
        "    print(\"Inside the function\")\n",
        "\n",
        "\n",
        "my_function()"
      ],
      "metadata": {
        "colab": {
          "base_uri": "https://localhost:8080/"
        },
        "id": "t3zIybrZJQI6",
        "outputId": "7db24e39-ece7-43e2-9eda-0ada3bd33701"
      },
      "execution_count": null,
      "outputs": [
        {
          "output_type": "stream",
          "name": "stdout",
          "text": [
            "Before function call\n",
            "Inside the function\n",
            "After function call\n"
          ]
        }
      ]
    },
    {
      "cell_type": "markdown",
      "source": [
        "Calling Functions :\n",
        "\n",
        "* Directly by name :\n",
        "\n",
        "The function name is followed by parentheses containing the arguments (if any)."
      ],
      "metadata": {
        "id": "k1V4a0UnLVt3"
      }
    },
    {
      "cell_type": "code",
      "source": [
        "greet(\"Ram\")"
      ],
      "metadata": {
        "colab": {
          "base_uri": "https://localhost:8080/"
        },
        "id": "jrEDPs9eLbC1",
        "outputId": "8cc107b7-8be8-4fe4-9688-7aebeab410cd"
      },
      "execution_count": null,
      "outputs": [
        {
          "output_type": "stream",
          "name": "stdout",
          "text": [
            "Hello, Ram!\n"
          ]
        }
      ]
    },
    {
      "cell_type": "markdown",
      "source": [
        "* Using variables:\n",
        "\n",
        "You can assign a function to a variable and then call it using the variable name."
      ],
      "metadata": {
        "id": "VX0varWWLxOA"
      }
    },
    {
      "cell_type": "code",
      "source": [
        "my_function = greet\n",
        "my_function(\"Shyam\")"
      ],
      "metadata": {
        "colab": {
          "base_uri": "https://localhost:8080/"
        },
        "id": "iWGKPxGWL0Se",
        "outputId": "9ba14cde-7cc2-480a-a623-03891afdf019"
      },
      "execution_count": null,
      "outputs": [
        {
          "output_type": "stream",
          "name": "stdout",
          "text": [
            "Hello, Shyam!\n"
          ]
        }
      ]
    },
    {
      "cell_type": "markdown",
      "source": [
        "* As arguments to other functions:\n",
        "\n",
        "Functions can be passed as arguments to other functions."
      ],
      "metadata": {
        "id": "fWsbRN1gMMec"
      }
    },
    {
      "cell_type": "code",
      "source": [
        "def apply_function(func, arg):\n",
        "    result = func(arg)\n",
        "    return result\n",
        "\n",
        "result = apply_function(greet, \"Charlie\")\n",
        "print(result)"
      ],
      "metadata": {
        "colab": {
          "base_uri": "https://localhost:8080/"
        },
        "id": "wswBnnhwMPSk",
        "outputId": "0860dd0e-ae0c-4225-aa07-67396caddb83"
      },
      "execution_count": null,
      "outputs": [
        {
          "output_type": "stream",
          "name": "stdout",
          "text": [
            "Hello, Charlie!\n",
            "None\n"
          ]
        }
      ]
    },
    {
      "cell_type": "markdown",
      "source": [
        "* Using the args and kwargs syntax:\n",
        "\n",
        "These allow you to pass a variable number of arguments to a function.\n",
        "*args collects positional arguments into a tuple.\n",
        "**kwargs collects keyword arguments into a dictionary."
      ],
      "metadata": {
        "id": "dNEEySy_TgWV"
      }
    },
    {
      "cell_type": "code",
      "source": [
        "def my_function(name, *args, **kwargs):\n",
        "    print(\"Name:\", name)\n",
        "    print(\"Args:\", args)\n",
        "    print(\"Kwargs:\", kwargs)\n",
        "\n",
        "my_function(\"Ram\", 30, \"Engineer\", city=\"Ahmedabad\", country=\"Bharat\")"
      ],
      "metadata": {
        "colab": {
          "base_uri": "https://localhost:8080/"
        },
        "id": "yXulLdQSTf_k",
        "outputId": "9719bd3f-f0cb-472f-91ea-dea54bfed6a1"
      },
      "execution_count": null,
      "outputs": [
        {
          "output_type": "stream",
          "name": "stdout",
          "text": [
            "Name: Ram\n",
            "Args: (30, 'Engineer')\n",
            "Kwargs: {'city': 'Ahmedabad', 'country': 'Bharat'}\n"
          ]
        }
      ]
    },
    {
      "cell_type": "markdown",
      "source": [
        " 4. What is the purpose of the 'return' statement in a Python function?"
      ],
      "metadata": {
        "id": "e8LXJLJyVs5g"
      }
    },
    {
      "cell_type": "markdown",
      "source": [
        "The return statement in a Python function serves several important purposes:\n",
        "\n",
        "1. Provide Output from a Function\n",
        "\n",
        "The primary purpose of the return statement is to send a result back to the caller of the function. When a function completes its task, it can use return to provide a value that can be used elsewhere in the code."
      ],
      "metadata": {
        "id": "g-mVvaOgVuKj"
      }
    },
    {
      "cell_type": "code",
      "source": [
        "def add(x, y):\n",
        "    return x + y\n",
        "\n",
        "result = add(5, 3)\n",
        "print(result)"
      ],
      "metadata": {
        "colab": {
          "base_uri": "https://localhost:8080/"
        },
        "id": "4nbSGOXYXtk0",
        "outputId": "1ae85655-dd48-40a8-9be6-5affb9be0849"
      },
      "execution_count": null,
      "outputs": [
        {
          "output_type": "stream",
          "name": "stdout",
          "text": [
            "8\n"
          ]
        }
      ]
    },
    {
      "cell_type": "markdown",
      "source": [
        "2. End Function Execution\n",
        "\n",
        "When a return statement is executed, it immediately ends the function's execution. No further statements in the function will be executed after a return statement."
      ],
      "metadata": {
        "id": "yqIE4D_pX5DX"
      }
    },
    {
      "cell_type": "code",
      "source": [
        "def check_number(num):\n",
        "    if num > 0:\n",
        "        return \"Positive\"\n",
        "    return \"Non-positive\"\n",
        "\n",
        "print(check_number(10))\n",
        "print(check_number(-5))"
      ],
      "metadata": {
        "colab": {
          "base_uri": "https://localhost:8080/"
        },
        "id": "ye0_l1wfYCcc",
        "outputId": "820ead96-fd7b-402e-fffe-cac757ccbf72"
      },
      "execution_count": null,
      "outputs": [
        {
          "output_type": "stream",
          "name": "stdout",
          "text": [
            "Positive\n",
            "Non-positive\n"
          ]
        }
      ]
    },
    {
      "cell_type": "markdown",
      "source": [
        "3. Return Multiple Values\n",
        "\n",
        "Python functions can return multiple values as a tuple. This allows you to return a collection of values from a function."
      ],
      "metadata": {
        "id": "mVZoozKNY8Ys"
      }
    },
    {
      "cell_type": "code",
      "source": [
        "def get_coordinates():\n",
        "    return (10, 20)\n",
        "\n",
        "x, y = get_coordinates()\n",
        "print(x, y)"
      ],
      "metadata": {
        "colab": {
          "base_uri": "https://localhost:8080/"
        },
        "id": "HXRl7zxKY_Fb",
        "outputId": "805728ee-4c2f-4093-f35d-a27811756f70"
      },
      "execution_count": null,
      "outputs": [
        {
          "output_type": "stream",
          "name": "stdout",
          "text": [
            "10 20\n"
          ]
        }
      ]
    },
    {
      "cell_type": "markdown",
      "source": [
        "4. Return None\n",
        "\n",
        "If a function does not have a return statement, or if it has a return statement without an expression, it implicitly returns None. This can be useful when you want the function to perform some actions but not return any value."
      ],
      "metadata": {
        "id": "VhKRqU9rZJoT"
      }
    },
    {
      "cell_type": "code",
      "source": [
        "def print_message(message):\n",
        "    print(message)\n",
        "\n",
        "result = print_message(\"Hello, World!\")\n",
        "print(result)"
      ],
      "metadata": {
        "colab": {
          "base_uri": "https://localhost:8080/"
        },
        "id": "2JxFDyoaZLzk",
        "outputId": "9ee76298-3b49-42d8-bbbf-41299ccb9807"
      },
      "execution_count": null,
      "outputs": [
        {
          "output_type": "stream",
          "name": "stdout",
          "text": [
            "Hello, World!\n",
            "None\n"
          ]
        }
      ]
    },
    {
      "cell_type": "markdown",
      "source": [
        "5. Conditional Return\n",
        "\n",
        "You can use the return statement within conditional statements to control what gets returned based on certain conditions."
      ],
      "metadata": {
        "id": "E1ZlDxanZZlS"
      }
    },
    {
      "cell_type": "code",
      "source": [
        "def divide(a, b):\n",
        "    if b == 0:\n",
        "        return \"Cannot divide by zero\"\n",
        "    return a / b\n",
        "\n",
        "print(divide(10, 2))\n",
        "print(divide(10, 0))"
      ],
      "metadata": {
        "colab": {
          "base_uri": "https://localhost:8080/"
        },
        "id": "eFmzWXggZgsH",
        "outputId": "c2e28dc7-0659-4b30-a733-a2ef1e4c328b"
      },
      "execution_count": null,
      "outputs": [
        {
          "output_type": "stream",
          "name": "stdout",
          "text": [
            "5.0\n",
            "Cannot divide by zero\n"
          ]
        }
      ]
    },
    {
      "cell_type": "markdown",
      "source": [
        " 5. What are iterators in Python and how do they differ from iterables?"
      ],
      "metadata": {
        "id": "CWtQ9swVaCsQ"
      }
    },
    {
      "cell_type": "markdown",
      "source": [
        "In Python, iterators and iterables are foundational concepts related to looping and iterating over collections. Understanding their differences is crucial for effective programming.\n",
        "\n",
        "* Iterators :\n",
        "\n",
        "An iterator is an object that represents a stream of data. It is the actual mechanism that allows you to iterate over an iterable. An iterator implements two key methods:\n",
        "\n",
        "__iter__():\n",
        "\n",
        " Returns the iterator object itself. This method is required for the object to be an iterator.\n",
        "\n",
        "\n",
        "__next__():\n",
        "\n",
        " Returns the next value from the stream of data. When there are no more items to return, this method raises a StopIteration exception to signal that the iteration should end.\n",
        "\n",
        "* Iterables :\n",
        "\n",
        "An iterable is any Python object that can return its elements one at a time, allowing it to be iterated over in a loop. In other words, an iterable is an object that implements the __iter__() method, which returns an iterator.\n",
        "\n",
        "Common Iterables:\n",
        "\n",
        "Lists ,\n",
        "Tuples ,\n",
        "Dictionaries ,\n",
        "Sets ,\n",
        "Strings\n",
        "\n",
        "* Key Differences :\n",
        "\n",
        "Definition and Role : -\n",
        "\n",
        "Iterable: An object that can be looped over. It must implement the __iter__() method, which returns an iterator.\n",
        "Iterator: An object that does the actual iteration. It implements both __iter__() and __next__() methods.\n",
        "\n",
        "Methods : -\n",
        "\n",
        "Iterable: Implements __iter__(), which should return an iterator.\n",
        "Iterator: Implements both __iter__() (which returns itself) and __next__() (which returns the next item).\n",
        "\n",
        "Usage : -\n",
        "\n",
        "Iterable: You can use an iterable in a for loop or with functions that accept iterables (e.g., sum(), list()).\n",
        "\n",
        "Iterator: You need to explicitly call __next__() to get the next value and handle the StopIteration exception when the iteration ends.\n",
        "\n",
        "Example of Converting Iterable to Iterator : -\n",
        "\n",
        "You can obtain an iterator from an iterable using the iter() function:"
      ],
      "metadata": {
        "id": "nZKiS-A4aMXl"
      }
    },
    {
      "cell_type": "code",
      "source": [
        "my_list = [1, 2, 3]\n",
        "\n",
        "my_iterator = iter(my_list)\n",
        "\n",
        "while True:\n",
        "    try:\n",
        "        element = next(my_iterator)\n",
        "        print(element)\n",
        "    except StopIteration:\n",
        "        break"
      ],
      "metadata": {
        "colab": {
          "base_uri": "https://localhost:8080/"
        },
        "id": "pv0Mfpbtc958",
        "outputId": "3b6598ee-55d9-43b0-e970-ecc67501da45"
      },
      "execution_count": null,
      "outputs": [
        {
          "output_type": "stream",
          "name": "stdout",
          "text": [
            "1\n",
            "2\n",
            "3\n"
          ]
        }
      ]
    },
    {
      "cell_type": "markdown",
      "source": [
        " 6. Explain the concept of generators in Python and how they are defined."
      ],
      "metadata": {
        "id": "mPZuudTJequs"
      }
    },
    {
      "cell_type": "markdown",
      "source": [
        "A Generator in Python is a function that returns an iterator using the Yield keyword. In this article, we will discuss how the generator function works in Python.\n",
        "\n",
        "* Generator Function in Python\n",
        "\n",
        "A generator function in Python is defined like a normal function, but whenever it needs to generate a value, it does so with the yield keyword rather than return. If the body of a def contains yield, the function automatically becomes a Python generator function.\n",
        "\n",
        "* Defining  a Generator in Python\n",
        "\n",
        "In Python, we can create a generator function by simply using the def keyword and the yield keyword. The generator has the following syntax in Python:\n",
        "\n",
        "* Key Characteristics of Generators\n",
        "\n",
        "Lazy Evaluation :\n",
        "\n",
        "Generators compute values on the fly and produce them only when requested, which is known as lazy evaluation. This makes them memory-efficient since they do not require all values to be stored in memory at once.\n",
        "\n",
        "State Retention :\n",
        "\n",
        "Generators maintain their state between yields. They remember where they left off and can continue from that point when next() is called.\n",
        "\n",
        "Iteration Protocol :\n",
        "\n",
        "Generators follow the iterator protocol, meaning they have __iter__() and __next__() methods implemented automatically by Python.\n"
      ],
      "metadata": {
        "id": "LrpU0BCfgAVz"
      }
    },
    {
      "cell_type": "code",
      "source": [
        "# Example :\n",
        "def my_generator():\n",
        "    for i in range(5):\n",
        "        yield i\n",
        "\n",
        "for num in my_generator():\n",
        "    print(num)"
      ],
      "metadata": {
        "colab": {
          "base_uri": "https://localhost:8080/"
        },
        "id": "Br7Ie2AEgpo9",
        "outputId": "9ca339b6-a9ef-44b2-ece2-f4b77a1ec097"
      },
      "execution_count": null,
      "outputs": [
        {
          "output_type": "stream",
          "name": "stdout",
          "text": [
            "0\n",
            "1\n",
            "2\n",
            "3\n",
            "4\n"
          ]
        }
      ]
    },
    {
      "cell_type": "markdown",
      "source": [
        " 7. What are the advantages of using generators over regular functions?"
      ],
      "metadata": {
        "id": "USv9J_GF-e1P"
      }
    },
    {
      "cell_type": "markdown",
      "source": [
        "Generators offer several advantages over regular functions, particularly in scenarios involving large datasets or complex sequences. Here’s a detailed look at these advantages:\n",
        "\n",
        "1. Memory Efficiency\n",
        "\n",
        "Generators: Generators produce values one at a time and do not store the entire sequence in memory. This is highly efficient for iterating over large datasets or streams of data, as it only holds the current value in memory.\n",
        "\n",
        "Regular Functions: Regular functions that return lists or other collections store the entire sequence in memory, which can be problematic for very large datasets or when working with limited memory resources.\n",
        "\n",
        "2. Lazy Evaluation\n",
        "\n",
        "Generators: Generators employ lazy evaluation, meaning they only compute values as needed. This can be advantageous when dealing with potentially large or infinite sequences, as values are generated on-the-fly and only when requested.\n",
        "\n",
        "Regular Functions: Regular functions that return a collection generate all values upfront, which can be inefficient if you only need a subset of the data or if the dataset is large.\n",
        "\n",
        "3. Improved Performance for Large Data\n",
        "\n",
        "Generators: Since generators yield values one at a time, they can be more performant when dealing with large volumes of data, particularly if you don’t need to process all of it simultaneously.\n",
        "\n",
        "Regular Functions: Functions that generate large data structures upfront may require more time and resources to create and store the data, potentially impacting performance.\n",
        "\n",
        "4. Simplified Code for Iteration\n",
        "\n",
        "Generators: Generators simplify the code required to iterate over a sequence. You don’t need to manage the state or index manually; you can use for loops or functions like next() to handle iteration seamlessly.\n",
        "\n",
        "Regular Functions: With regular functions returning collections, you often need to write additional code to manage iteration, especially if the iteration logic is complex or if the collection is large.\n",
        "\n",
        "5. Handling Infinite Sequences\n",
        "\n",
        "Generators: Generators can handle infinite sequences because they generate values on-demand and don’t need to store the entire sequence. This is useful for algorithms or computations that produce ongoing results.\n",
        "\n",
        "Regular Functions: Functions that return collections cannot handle infinite sequences because they require generating and storing the entire collection upfront, which is not feasible."
      ],
      "metadata": {
        "id": "iofpb8cqBFDz"
      }
    },
    {
      "cell_type": "code",
      "source": [
        "def fibonacci(n):\n",
        "    sequence = []\n",
        "    a, b = 0, 1\n",
        "    for _ in range(n):\n",
        "        sequence.append(a)\n",
        "        a, b = b, a + b\n",
        "    return sequence\n",
        "\n",
        "for number in fibonacci(8):\n",
        "    print(number)"
      ],
      "metadata": {
        "colab": {
          "base_uri": "https://localhost:8080/"
        },
        "id": "_pza-NiADAgr",
        "outputId": "02aa17a4-8845-4968-c4be-1e39ae9ffc7a"
      },
      "execution_count": null,
      "outputs": [
        {
          "output_type": "stream",
          "name": "stdout",
          "text": [
            "0\n",
            "1\n",
            "1\n",
            "2\n",
            "3\n",
            "5\n",
            "8\n",
            "13\n"
          ]
        }
      ]
    },
    {
      "cell_type": "markdown",
      "source": [
        "8. What is a lambda function in Python and when is it typically used?"
      ],
      "metadata": {
        "id": "F6DYqOiED5iD"
      }
    },
    {
      "cell_type": "markdown",
      "source": [
        "A lambda function in Python is a small, anonymous function that can have multiple arguments but only one expression. They are written in a single line of syntax that is similar to regular functions, but without the need to declare a name with the def keyword. Lambda functions are often used for quick tasks that can be written in a single line, such as simple mathematical calculations or basic data transformations. They are also commonly used in functional programming contexts with higher-order functions like map, filter, and reduce\n",
        "\n",
        "* A lambda function has the following syntax:\n",
        "\n",
        "lambda arguments: expression\n",
        "\n",
        "* Typical Uses of Lambda Functions\n",
        "\n",
        "1. Short, Throwaway Functions\n",
        "\n",
        "Lambda functions are often used when you need a simple function for a short period and don’t want to define a full function with def. They are commonly used as arguments to higher-order functions.\n",
        "\n",
        "2. Functional Programming\n",
        "\n",
        "Lambda functions are frequently used with functions like map(), filter(), and reduce() for functional programming tasks. They provide a compact way to specify the operation to be performed on elements of an iterable.\n",
        "\n",
        "3. Inline Use in Data Structures\n",
        "\n",
        "Lambda functions can be used inline where a short function is required temporarily. For example, in a list of tuples or as part of a data processing pipeline.\n",
        "\n",
        "* Advantages of lambda function :\n",
        "\n",
        "Conciseness: Lambda functions are concise and can be written in a single line.\n",
        "Convenience: They provide a quick way to define simple functions inline.\n",
        "\n",
        "* Limitations of lambda function :\n",
        "\n",
        "Single Expression: Lambda functions can only contain a single expression. They cannot include multiple statements or complex logic.\n",
        "Readability: Overusing lambda functions, especially for more complex logic, can make code less readable. In such cases, regular functions defined with def are usually clearer."
      ],
      "metadata": {
        "id": "EwWvhP_iE6xr"
      }
    },
    {
      "cell_type": "code",
      "source": [
        "# Example\n",
        "numbers = [1, 2, 3, 4, 5]\n",
        "doubled = [(lambda x: x * 2)(x) for x in numbers]\n",
        "print(doubled)"
      ],
      "metadata": {
        "colab": {
          "base_uri": "https://localhost:8080/"
        },
        "id": "V11FFsdkMjkb",
        "outputId": "cff53fb2-0406-4c1b-a6fa-0199fcb42381"
      },
      "execution_count": null,
      "outputs": [
        {
          "output_type": "stream",
          "name": "stdout",
          "text": [
            "[2, 4, 6, 8, 10]\n"
          ]
        }
      ]
    },
    {
      "cell_type": "markdown",
      "source": [
        "9. Explain the purpose and usage of the 'map()' function in Python"
      ],
      "metadata": {
        "id": "qO3MwtxXN-Pi"
      }
    },
    {
      "cell_type": "markdown",
      "source": [
        "Python map() function applies a specific function to all the items of the iterable in order to create a new iterable.\n",
        "\n",
        "The Python map() method is a built-in function that provides a map object (an iterator) containing the results of applying the provided function in the program to each item of a given iterable (list, tuple, etc.)\n",
        "\n",
        "Because it maps every item in an input iterable to a new item in a resultant iterable, the action performed by map() is usually referred to as mapping. Map() does this by applying a transformation function to all of the elements in the input iterable. To better understand this, let us look at the syntax of the Python map() function.\n",
        "\n",
        "Purpose:\n",
        "\n",
        "* To efficiently apply a function to every element of an iterable.\n",
        "* To create a new iterable with transformed elements.\n",
        "* To simplify code and improve readability.\n",
        "\n",
        "Syntax :\n",
        "                    \n",
        "map(function, iterable)\n",
        "\n",
        "Example :"
      ],
      "metadata": {
        "id": "-qXZ9APf3YOi"
      }
    },
    {
      "cell_type": "code",
      "source": [
        "numbers = [1, 2, 3, 4, 5]\n",
        "\n",
        "squared_numbers = map(lambda x: x**2, numbers)\n",
        "\n",
        "squared_numbers_list = list(squared_numbers)\n",
        "\n",
        "print(squared_numbers_list)"
      ],
      "metadata": {
        "colab": {
          "base_uri": "https://localhost:8080/"
        },
        "id": "qzs5BTkh7Fqg",
        "outputId": "94ae6857-1424-4b72-8b2f-925439955791"
      },
      "execution_count": null,
      "outputs": [
        {
          "output_type": "stream",
          "name": "stdout",
          "text": [
            "[1, 4, 9, 16, 25]\n"
          ]
        }
      ]
    },
    {
      "cell_type": "markdown",
      "source": [
        " 10. What is the difference between 'map()', 'reduce()', and 'filter()' functions in Python?"
      ],
      "metadata": {
        "id": "FUwyQKq87p_3"
      }
    },
    {
      "cell_type": "markdown",
      "source": [
        "The map(), reduce(), and filter() functions are built-in functions in Python that are used to perform different operations on iterables.\n",
        "\n",
        "* map() :\n",
        "\n",
        "Purpose: Applies a given function to each element of an iterable and returns a new iterable with the results.\n",
        "\n",
        "Syntax: map(function, iterable)\n"
      ],
      "metadata": {
        "id": "mUoreehS9Poj"
      }
    },
    {
      "cell_type": "code",
      "source": [
        "# Example\n",
        "numbers = [1, 2, 3, 4, 5]\n",
        "squared_numbers = map(lambda x: x**2, numbers)\n",
        "print(list(squared_numbers))"
      ],
      "metadata": {
        "colab": {
          "base_uri": "https://localhost:8080/"
        },
        "id": "cvvbkJ0r9Zby",
        "outputId": "17118733-2289-46fc-e430-706cf8584901"
      },
      "execution_count": null,
      "outputs": [
        {
          "output_type": "stream",
          "name": "stdout",
          "text": [
            "[1, 4, 9, 16, 25]\n"
          ]
        }
      ]
    },
    {
      "cell_type": "markdown",
      "source": [
        "* reduce()\n",
        "\n",
        "Purpose: Applies a given function to the elements of an iterable, accumulating a single value.\n",
        "\n",
        "Syntax : reduce(function, iterable, initial_value=None)"
      ],
      "metadata": {
        "id": "OXxrbh8s9ikl"
      }
    },
    {
      "cell_type": "code",
      "source": [
        "# Example\n",
        "from functools import reduce\n",
        "numbers = [1, 2, 3, 4, 5]\n",
        "product = reduce(lambda x, y: x * y, numbers)\n",
        "print(product)"
      ],
      "metadata": {
        "colab": {
          "base_uri": "https://localhost:8080/"
        },
        "id": "F0eseew_957Y",
        "outputId": "6dd6ec75-db67-4820-c52a-d9a671fd6464"
      },
      "execution_count": null,
      "outputs": [
        {
          "output_type": "stream",
          "name": "stdout",
          "text": [
            "120\n"
          ]
        }
      ]
    },
    {
      "cell_type": "markdown",
      "source": [
        "* filter()\n",
        "\n",
        "Purpose: Creates a new iterable containing only the elements from the original iterable that satisfy a given condition.\n",
        "\n",
        "Syntax : filter(function, iterable)"
      ],
      "metadata": {
        "id": "x8q_131m-Bbf"
      }
    },
    {
      "cell_type": "code",
      "source": [
        "# Example\n",
        "numbers = [1, 2, 3, 4, 5]\n",
        "even_numbers = filter(lambda x: x % 2 == 0, numbers)\n",
        "print(list(even_numbers))"
      ],
      "metadata": {
        "colab": {
          "base_uri": "https://localhost:8080/"
        },
        "id": "VfnaMQrF-NLg",
        "outputId": "61bdb8d1-2951-4afa-c850-150efd59d1c5"
      },
      "execution_count": null,
      "outputs": [
        {
          "output_type": "stream",
          "name": "stdout",
          "text": [
            "[2, 4]\n"
          ]
        }
      ]
    },
    {
      "cell_type": "markdown",
      "source": [
        "* Summary of Differences:\n",
        "\n",
        "map() :\n",
        "\n",
        "Transforms each item in the iterable.\n",
        "\n",
        "Produces an iterator of the transformed items.\n",
        "\n",
        "reduce() :\n",
        "\n",
        "Accumulates results using a binary function.\n",
        "\n",
        "Produces a single value from the iterable.\n",
        "\n",
        "filter() :\n",
        "\n",
        "Filters items based on a condition.\n",
        "\n",
        "Produces an iterator of items that satisfy the condition."
      ],
      "metadata": {
        "id": "53X_NZrR-gha"
      }
    },
    {
      "cell_type": "markdown",
      "source": [
        "11. Using pen & Paper write the internal mechanism for sum operation using  reduce function on this given  list : [47,11,42,13];"
      ],
      "metadata": {
        "id": "hgcXVGUV-wZv"
      }
    },
    {
      "cell_type": "markdown",
      "source": [
        "The reduce() function in Python takes an iterable (like a list) and a binary function (a function that takes two arguments). It applies the binary function cumulatively to the elements of the iterable, from left to right, to reduce the iterable to a single value.\n",
        "\n",
        "Here's how the reduce() function works internally to calculate the sum of the list [47, 11, 42, 13]:\n",
        "\n",
        "1. Initial Step:\n",
        "\n",
        "* The reduce() function starts with the first two elements of the list, 47 and 11.\n",
        "* It applies the binary function (in this case, addition) to these two elements: 47 + 11 = 58.\n",
        "\n",
        "2. Second Step:\n",
        "\n",
        "* The result from the previous step (58) becomes the first argument for the next iteration.\n",
        "* The next element in the list, 42, becomes the second argument.\n",
        "* The binary function is applied again: 58 + 42 = 100.\n",
        "\n",
        "3. Third Step:\n",
        "\n",
        "* The result from the previous step (100) becomes the first argument for the next iteration.\n",
        "* The next element in the list, 13, becomes the second argument.\n",
        "* The binary function is applied again: 100 + 13 = 113.\n",
        "\n",
        "4. Final Step:\n",
        "\n",
        "* Since there are no more elements in the list, the reduce() function returns the final result, which is 113.\n",
        "\n",
        "In essence, the reduce() function iterates through the list, adding each element to the running sum, until it reaches the end of the list. The final result is the sum of all the elements in the list."
      ],
      "metadata": {
        "id": "boW4EoJoeEo4"
      }
    },
    {
      "cell_type": "code",
      "source": [
        "# Example\n",
        "from functools import reduce\n",
        "\n",
        "numbers = [47, 11, 42, 13]\n",
        "\n",
        "def my_sum(accumulator, element):\n",
        "    return accumulator + element\n",
        "result = reduce(my_sum, numbers, 0)\n",
        "\n",
        "print(result)"
      ],
      "metadata": {
        "colab": {
          "base_uri": "https://localhost:8080/"
        },
        "id": "71SYQSmvez1j",
        "outputId": "4122f009-4498-48e4-d190-fb935c039f81"
      },
      "execution_count": null,
      "outputs": [
        {
          "output_type": "stream",
          "name": "stdout",
          "text": [
            "113\n"
          ]
        }
      ]
    }
  ],
  "metadata": {
    "colab": {
      "provenance": []
    },
    "kernelspec": {
      "display_name": "Python 3",
      "name": "python3"
    },
    "language_info": {
      "name": "python"
    }
  },
  "nbformat": 4,
  "nbformat_minor": 0
}